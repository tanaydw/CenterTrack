{
 "cells": [
  {
   "cell_type": "markdown",
   "id": "polish-belize",
   "metadata": {},
   "source": [
    "# Installation\n",
    "\n",
    "\n",
    "The code was tested on Ubuntu 18.04.5 LTS, with Python 3.7.10, CUDA 11.0, and [PyTorch]((http://pytorch.org/)) v1.7.1."
   ]
  },
  {
   "cell_type": "markdown",
   "id": "afraid-state",
   "metadata": {},
   "source": [
    "### Step 1. Installing required packages\n",
    "\n",
    "First step is to download all the required python packages that are necessary to run the code. Since the dependancies are defined in requirements.txt, this can be easily done by running the cell below. Please ensure that you have pip installed earlier in the environment. If not then please uncomment the first line that should install the pip."
   ]
  },
  {
   "cell_type": "code",
   "execution_count": null,
   "id": "collective-productivity",
   "metadata": {},
   "outputs": [],
   "source": [
    "# Uncomment this below line only if pip is not installed in your environment.\n",
    "# !apt install python3-pip\n",
    "\n",
    "!pip install -r ../requirements.txt"
   ]
  },
  {
   "cell_type": "markdown",
   "id": "graduate-forum",
   "metadata": {},
   "source": [
    "### Step 2. Building DCNv2\n",
    "\n",
    "DCNv2 is the backbone used in the CenterTrack. Please note that a CUDA, g++, gcc are required for building the code for DCNv2. To check if these are install, uncomment the line below. Once the requirements are satisfied, run the next cell which should build DCNv2 and NMS for non-maxima supression. "
   ]
  },
  {
   "cell_type": "code",
   "execution_count": null,
   "id": "adjusted-cancer",
   "metadata": {},
   "outputs": [],
   "source": [
    "# !nvcc --version         # For checking CUDA"
   ]
  },
  {
   "cell_type": "code",
   "execution_count": null,
   "id": "suitable-cigarette",
   "metadata": {},
   "outputs": [],
   "source": [
    "# !gcc --version          # For checking C compiler"
   ]
  },
  {
   "cell_type": "code",
   "execution_count": null,
   "id": "synthetic-coverage",
   "metadata": {},
   "outputs": [],
   "source": [
    "# !g++ --version          # For checking C++ compiler"
   ]
  },
  {
   "cell_type": "code",
   "execution_count": null,
   "id": "iraqi-consultancy",
   "metadata": {},
   "outputs": [],
   "source": [
    "%cd ../src/lib/model/networks/DCNv2\n",
    "\n",
    "!python setup.py build develop\n",
    "\n",
    "%cd ../../../../.."
   ]
  },
  {
   "cell_type": "markdown",
   "id": "adjusted-nursing",
   "metadata": {},
   "source": [
    "### Step 3. Installing the Model Weights\n",
    "\n",
    "Model weights are currently stored in s3 bucket and are provided with this project. Please run the following line of code to download the weights."
   ]
  },
  {
   "cell_type": "code",
   "execution_count": null,
   "id": "operating-month",
   "metadata": {},
   "outputs": [],
   "source": [
    "%cd ../../\n",
    "\n",
    "!make EXPT_NAME=centertrack sync_data_from_s3\n",
    "\n",
    "%cd source/CenterTrack/"
   ]
  }
 ],
 "metadata": {
  "kernelspec": {
   "display_name": "Python 3",
   "language": "python",
   "name": "python3"
  },
  "language_info": {
   "codemirror_mode": {
    "name": "ipython",
    "version": 3
   },
   "file_extension": ".py",
   "mimetype": "text/x-python",
   "name": "python",
   "nbconvert_exporter": "python",
   "pygments_lexer": "ipython3",
   "version": "3.8.7"
  }
 },
 "nbformat": 4,
 "nbformat_minor": 5
}
