{
 "cells": [
  {
   "cell_type": "markdown",
   "id": "interracial-brunswick",
   "metadata": {},
   "source": [
    "# Inference:- Localization and Metadata Generation (Car A)\n",
    "\n",
    "Please make sure that you have installed the software before running this notebook. If you forgot to install, please refere to [INSTALL.ipynb](INSTALL.ipynb) notebook for installation instructions."
   ]
  },
  {
   "cell_type": "markdown",
   "id": "leading-programmer",
   "metadata": {},
   "source": [
    "## Instructions\n",
    "\n",
    "The code below executes the first step, i.e. it takes an image from camera, and maps it to GPS → metadata mapping that is finally transferred to the cloud or car B. For a detailes explaination of what it does, please refer to Introduction of [README.md](../README.md). A pipeline diagram is also shown below, which is executed in this inference step.\n",
    "\n",
    "<p align=\"center\"> <img src='../images/car_a_pipeline.PNG' align=\"center\" height=\"230px\"> </p> \n",
    "\n",
    "**Important points to Note:-**\n",
    "\n",
    "- For the inference results to run properly, following data is necessary -\n",
    "    - Video on which inference needs to be run.\n",
    "    - GPS-coordinate corresponding to each video frame in a CSV file.\n",
    "\n",
    "\n",
    "- Please keep the CSV file containing the GPS coordinates in the *../src/satmap/* directory. Also note that the name of the CSV file shoud be *1_x_all.csv* where x denotes the sequence number (x = 1, 2, 3...) as per the dataset provided dataset TCJP/TMC. \n",
    "\n",
    "    \n",
    "- The output video is stored in *../results/* directory which is automatically created after inference runs successfully. Similarly, the metadata is stored in *../metadata/* directory. This can then be transferred to the cloud or car B.\n",
    "\n",
    "\n",
    "- Please specify the location of model weights and the inference video in the next cell. For the purpose of demo, we will be retrieving this data from s3 buckets.\n",
    "\n",
    "\n",
    "- The video is assumed to be from denso camera, which was provided as dataset by TCJP/TMC. If some other camera is used, then please change the focal length and video size accordingly for proper results."
   ]
  },
  {
   "cell_type": "code",
   "execution_count": null,
   "id": "dutch-headquarters",
   "metadata": {},
   "outputs": [],
   "source": [
    "!VIDEO_PATH=../../../data/centertrack/Negley_Black.mp4           # Path to the demo video\n",
    "!MODEL_PATH=../../../model/centertrack/nuScenes_3Dtracking.pth   # Path to the model weights"
   ]
  },
  {
   "cell_type": "code",
   "execution_count": null,
   "id": "molecular-flesh",
   "metadata": {},
   "outputs": [],
   "source": [
    "!python ../src/inference_car_a.py tracking,ddd \\\n",
    "    --save_framerate 10 \\                             # FPS of output video\n",
    "    --track_thresh 0.3  \\                             # Threshold for detection\n",
    "    --test_focal_length 1323 \\                        # Focal length of the camera\n",
    "    --save_video \\                                    # Option to save the video or not\n",
    "    --resize_video --video_h 1282 --video_w 2090 \\    # Size of the input video\n",
    "    --skip_first 720 \\                                # How many frames to skip at the beginning\n",
    "    --demo ${VIDEO_PATH}\\                             # path to the demo video\n",
    "    --load_model ${MODEL_PATH}                        # path to the model weights"
   ]
  },
  {
   "cell_type": "markdown",
   "id": "involved-settlement",
   "metadata": {},
   "source": [
    "## What next?\n",
    "\n",
    "- Check the output:-\n",
    "    - **Detection** output can be checked in [results directory](../results/).\n",
    "    - **Metadata** generated for transfer to the cloud can be checked in [metadata directory](../metadata/).\n",
    "  \n",
    "  \n",
    "- Run the scene recreation notebook (Car B) [INFERENCE_CAR_B](INFERENCE_CAR_B.ipynb)."
   ]
  }
 ],
 "metadata": {
  "kernelspec": {
   "display_name": "Python 3",
   "language": "python",
   "name": "python3"
  },
  "language_info": {
   "codemirror_mode": {
    "name": "ipython",
    "version": 3
   },
   "file_extension": ".py",
   "mimetype": "text/x-python",
   "name": "python",
   "nbconvert_exporter": "python",
   "pygments_lexer": "ipython3",
   "version": "3.8.7"
  }
 },
 "nbformat": 4,
 "nbformat_minor": 5
}
